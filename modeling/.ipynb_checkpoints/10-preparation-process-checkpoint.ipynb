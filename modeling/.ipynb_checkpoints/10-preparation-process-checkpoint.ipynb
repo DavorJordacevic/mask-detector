{
 "cells": [
  {
   "cell_type": "code",
   "execution_count": 56,
   "metadata": {},
   "outputs": [
    {
     "data": {
      "text/plain": [
       "'/Users/waittim/Documents/Python/Personal/mask-detector'"
      ]
     },
     "execution_count": 56,
     "metadata": {},
     "output_type": "execute_result"
    }
   ],
   "source": [
    "%pwd"
   ]
  },
  {
   "cell_type": "code",
   "execution_count": 2,
   "metadata": {},
   "outputs": [
    {
     "name": "stdout",
     "output_type": "stream",
     "text": [
      "/Users/waittim/Documents/Python/Personal/mask-detector\n"
     ]
    }
   ],
   "source": [
    "%cd .."
   ]
  },
  {
   "cell_type": "code",
   "execution_count": null,
   "metadata": {},
   "outputs": [],
   "source": [
    "%pip install -r requirements.txt"
   ]
  },
  {
   "cell_type": "code",
   "execution_count": 48,
   "metadata": {},
   "outputs": [],
   "source": [
    "import os\n",
    "import sys\n",
    "import xml.etree.ElementTree as ET\n",
    "import glob\n",
    "from PIL import Image\n",
    "import random"
   ]
  },
  {
   "cell_type": "code",
   "execution_count": 63,
   "metadata": {},
   "outputs": [],
   "source": [
    "def xml_to_txt(indir, outdir, imagedir):\n",
    " \n",
    "    #os.chdir(indir)\n",
    "    annotations = os.listdir(indir+'/.')\n",
    "    #annotations = glob.glob(str(annotations)+'*.xml')\n",
    "    #print(annotations)\n",
    "    for i, file in enumerate(annotations):\n",
    "         \n",
    "        file_save = file.split('.')[0]+'.txt'\n",
    "        #print(file_save)\n",
    "        # file_txt=os.path.join(outdir,file_save)\n",
    "        file_txt = outdir+\"/\"+file_save\n",
    "        f_w = open(file_txt, 'w+')\n",
    " \n",
    "        # actual parsing\n",
    "        in_file = open(indir+'/'+file)\n",
    "        tree=ET.parse(in_file)\n",
    "        root = tree.getroot()\n",
    "        filename = root.find('filename').text  #Get filename from the root of xml\n",
    "        \n",
    "        # Get the image size\n",
    "        image = Image.open(imagedir+'/'+file.split('.')[0]+'.jpg')\n",
    "        image_width = image.width\n",
    "        image_height = image.height\n",
    "        \n",
    "        for obj in root.iter('object'):\n",
    "                current = list()\n",
    "                name = obj.find('name').text   #get the class name then transfer to number\n",
    "                if name == 'face':\n",
    "                    class_number = '0'\n",
    "                elif name == 'face_mask':\n",
    "                    class_number = '1'\n",
    "                else: \n",
    "                    class_number = '2' #wrong class\n",
    "                    print(file_save) # if return any wrong class, get correct it\n",
    " \n",
    "                xmlbox = obj.find('bndbox')\n",
    "                xmin = int(xmlbox.find('xmin').text)\n",
    "                xmax = int(xmlbox.find('xmax').text)\n",
    "                ymin = int(xmlbox.find('ymin').text)\n",
    "                ymax = int(xmlbox.find('ymax').text)\n",
    "                \n",
    "                x_center = str((xmin + xmax) / 2 / image_width)\n",
    "                y_center = str((ymin + ymax) / 2 / image_height)\n",
    "                width = str((xmax - xmin) / image_width)\n",
    "                height = str((ymax - ymin) / image_height)\n",
    "                \n",
    "                #print xn\n",
    "                f_w.write(class_number +' '+x_center+' '+y_center+' '+width+' '+height+'\\n')\n",
    " \n",
    " "
   ]
  },
  {
   "cell_type": "code",
   "execution_count": 64,
   "metadata": {},
   "outputs": [],
   "source": [
    "indir = './modeling/data/xml_labels'   #xml fold\n",
    "outdir = './modeling/data/labels'  #txt fold\n",
    "imagedir = './modeling/data/images'  # image fold"
   ]
  },
  {
   "cell_type": "code",
   "execution_count": 65,
   "metadata": {},
   "outputs": [],
   "source": [
    "xml_to_txt(indir,outdir,imagedir)"
   ]
  },
  {
   "cell_type": "code",
   "execution_count": null,
   "metadata": {},
   "outputs": [],
   "source": []
  },
  {
   "cell_type": "code",
   "execution_count": 71,
   "metadata": {},
   "outputs": [],
   "source": [
    "test_percentage = 0.998\n",
    "\n",
    "all_image = os.listdir(imagedir+'/.')\n",
    "\n",
    "test_index = list(random.sample(range(0,len(all_image)), round(len(all_image)*test_percentage)))\n",
    "train_index = [i for i in range(0,len(all_image)) if i not in test_index]\n",
    "\n",
    "test_data = [all_image[i] for i in test_index]\n",
    "train_data = [all_image[i] for i in train_index]"
   ]
  },
  {
   "cell_type": "code",
   "execution_count": null,
   "metadata": {},
   "outputs": [],
   "source": []
  },
  {
   "cell_type": "code",
   "execution_count": 72,
   "metadata": {},
   "outputs": [],
   "source": [
    "f_w = open('./modeling/data/train.txt', 'w+')\n",
    "for i in train_data:\n",
    "    f_w.write('./modeling/data/images/'+i+'\\n')\n",
    "f_w.close()\n",
    "\n",
    "f_w = open('./modeling/data/valid.txt', 'w+')\n",
    "for i in test_data:\n",
    "    f_w.write('./modeling/data/images/'+i+'\\n')\n",
    "f_w.close()"
   ]
  },
  {
   "cell_type": "code",
   "execution_count": null,
   "metadata": {},
   "outputs": [],
   "source": []
  },
  {
   "cell_type": "code",
   "execution_count": null,
   "metadata": {},
   "outputs": [],
   "source": [
    "f_w = open('./modeling/data/face_mask.names.txt', 'w+')\n",
    "class_list = ['face', 'face_mask']\n",
    "for i in class_list:\n",
    "    f_w.write(i+'\\n')\n",
    "\n",
    "f_w.close()\n",
    "    \n",
    "os.rename('./modeling/data/face_mask.names.txt', './modeling/data/face_mask.names')"
   ]
  },
  {
   "cell_type": "code",
   "execution_count": null,
   "metadata": {},
   "outputs": [],
   "source": []
  },
  {
   "cell_type": "code",
   "execution_count": 95,
   "metadata": {},
   "outputs": [],
   "source": [
    "f_w = open('./modeling/data/face_mask.data.txt', 'w+')\n",
    "content = ['classes=2', \n",
    "           'train=data/train.txt', \n",
    "           'valid=data/valid.txt', \n",
    "           'names=data/face_mask.names']\n",
    "for i in content:\n",
    "    f_w.write(i+'\\n')\n",
    "\n",
    "f_w.close()\n",
    "    \n",
    "os.rename('./modeling/data/face_mask.data.txt', './modeling/data/face_mask.data')"
   ]
  },
  {
   "cell_type": "code",
   "execution_count": null,
   "metadata": {},
   "outputs": [],
   "source": []
  }
 ],
 "metadata": {
  "kernelspec": {
   "display_name": "Python 3",
   "language": "python",
   "name": "python3"
  },
  "language_info": {
   "codemirror_mode": {
    "name": "ipython",
    "version": 3
   },
   "file_extension": ".py",
   "mimetype": "text/x-python",
   "name": "python",
   "nbconvert_exporter": "python",
   "pygments_lexer": "ipython3",
   "version": "3.7.3"
  },
  "varInspector": {
   "cols": {
    "lenName": 16,
    "lenType": 16,
    "lenVar": 40
   },
   "kernels_config": {
    "python": {
     "delete_cmd_postfix": "",
     "delete_cmd_prefix": "del ",
     "library": "var_list.py",
     "varRefreshCmd": "print(var_dic_list())"
    },
    "r": {
     "delete_cmd_postfix": ") ",
     "delete_cmd_prefix": "rm(",
     "library": "var_list.r",
     "varRefreshCmd": "cat(var_dic_list()) "
    }
   },
   "types_to_exclude": [
    "module",
    "function",
    "builtin_function_or_method",
    "instance",
    "_Feature"
   ],
   "window_display": false
  }
 },
 "nbformat": 4,
 "nbformat_minor": 2
}
